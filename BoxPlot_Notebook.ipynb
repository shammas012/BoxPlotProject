{
 "cells": [
  {
   "cell_type": "markdown",
   "metadata": {},
   "source": [
    "# Investigation on Box plots"
   ]
  },
  {
   "cell_type": "markdown",
   "metadata": {},
   "source": [
    "This paper is an investigation on box plot representation of data in Statistics. We will be looking into the history behind box plot and its use in detail."
   ]
  },
  {
   "cell_type": "markdown",
   "metadata": {},
   "source": [
    "## 1. Introduction:\n",
    "Box plot or Box-Whisker plot used for representing the concentration of data, graphically, is invented by John Tukey in 1970. This is one of the few plotting types originated in last century but still widely used. The box plot is made up of five statistical values. They are the minimum (the smallest value), the lower(the first) quartile, the median, the upper (the third)quartile and the maximum(the largest value). The statistical terms quartile and percentile will be discussed in detail\n"
   ]
  },
  {
   "cell_type": "markdown",
   "metadata": {
    "collapsed": true
   },
   "source": [
    "## 2.1 Quartile and Percentile:\n",
    "Quartiles are numbers that separates a dataset to quarters. The quartile number need be a number from the actual dataset.The second quartile will always be the median of the whole data sequence. That is lower quartile should be the number dividing first and second quarters, and upper quartile divides third and fourth quartile.\n",
    "\n",
    "Percentile(P) of a dataset denotes the value below which a given percentage of data fall. That is 60th Percentile value of a dataset mean 60 percentage of the total dataset will be less than it. This means 50th percentile should be the median of the dataset. Percentiles divide a dataset into 100 groups.\n",
    "\n",
    "Since quartile of the dataset denotes the numbers that divide the dataset to 4 quarters. 25th, 50th and 75th percentile of the dataset should be Lower Qaurtile(Q1), Median(Q2) and Upper Quartile(Q3) respectively"
   ]
  },
  {
   "cell_type": "code",
   "execution_count": 5,
   "metadata": {},
   "outputs": [
    {
     "name": "stdout",
     "output_type": "stream",
     "text": [
      "[1, 2, 5, 6, 7, 9, 12, 15, 18, 19, 27]\n",
      "Lower Qaurtile : 5.5\n",
      "Median : 9\n",
      "Upper Qaurtile : 16.5\n",
      "9.0\n",
      "13\n"
     ]
    }
   ],
   "source": [
    "import numpy as np\n",
    "numbers = [ 1, 2, 5, 6, 7, 9, 12, 15, 18, 19, 27]\n",
    "print(numbers)\n",
    "print (\"Lower Qaurtile : %g\"  %np.percentile(numbers,25)) #print first quartile\n",
    "print (\"Median : %g\"  %np.percentile(numbers,50)) #print first quartile\n",
    "print (\"Upper Qaurtile : %g\"  %np.percentile(numbers,75)) #print first quartile\n",
    "median = np.median(numbers)\n",
    "print(median)\n",
    "test = np.percentile(numbers, 75, interpolation='higher') - np.percentile(numbers, 25, interpolation='lower')\n",
    "print(test)"
   ]
  },
  {
   "cell_type": "markdown",
   "metadata": {},
   "source": [
    "## 2. History:\n",
    "The basic form of the box plot was established even in 1950's called the range bar."
   ]
  },
  {
   "cell_type": "markdown",
   "metadata": {},
   "source": [
    "## Glossary:\n",
    "##### Mean : \n",
    "The mean of a sequence of numbers can be calculated by adding all numbers of the sequence and diving the total by numbers of elements in the sequents.\n",
    "\n",
    "##### Median:\n",
    "This is a method of measure the centre of the data. To find the Median, numerologically sort the numbers in a sequence and find the item in the middle of the sorted sequence. Median of an ordered sequence should be splitting the sequence into two halves, with values equal to or less than median in one half and values equal to or greater than median in other half."
   ]
  },
  {
   "cell_type": "markdown",
   "metadata": {},
   "source": [
    "## References\n",
    "\n",
    "1. https://en.wikipedia.org/wiki/Box_plot\n",
    "2. http://asq.org/statistics/2011/03/statistics/shape-finder-box-plots.pdf \n",
    "3. http://www.dis.uniroma1.it/~santucci/QPS/LUCIDI/DispenseStat/Boxplots.pdf\n",
    "4. https://www.statisticshowto.datasciencecentral.com/what-are-quartiles/\n",
    "5. https://matplotlib.org/examples/statistics/boxplot_color_demo.html\n",
    "6. https://cnx.org/contents/XgdE-Z55@40.9:tf3VgcnR@13/Box-Plots\n",
    "7. http://vita.had.co.nz/papers/boxplots.pdf\n",
    "8. https://resources.saylor.org/wwwresources/archived/site/wp-content/uploads/2011/06/MA121-1.2.3.pdf\n",
    "9. https://stackoverflow.com/questions/45926230/how-to-calculate-1st-and-3rd-quartiles\n",
    "10. https://www.youtube.com/watch?v=toBIFfniefo"
   ]
  }
 ],
 "metadata": {
  "kernelspec": {
   "display_name": "Python 3",
   "language": "python",
   "name": "python3"
  },
  "language_info": {
   "codemirror_mode": {
    "name": "ipython",
    "version": 3
   },
   "file_extension": ".py",
   "mimetype": "text/x-python",
   "name": "python",
   "nbconvert_exporter": "python",
   "pygments_lexer": "ipython3",
   "version": "3.6.3"
  }
 },
 "nbformat": 4,
 "nbformat_minor": 2
}
