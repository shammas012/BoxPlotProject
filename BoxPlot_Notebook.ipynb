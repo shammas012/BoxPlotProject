{
 "cells": [
  {
   "cell_type": "markdown",
   "metadata": {},
   "source": [
    "# Investigation on Box plots"
   ]
  },
  {
   "cell_type": "markdown",
   "metadata": {},
   "source": [
    "This paper is an investigation on box plot representation of data in Statistics. We will be looking into the history behind box plot and its use in detail."
   ]
  },
  {
   "cell_type": "markdown",
   "metadata": {},
   "source": [
    "## 1. Introduction:\n",
    "Box plot or Box-Whisker plot used for representing the concentration of data, graphically, is invented by John Tukey in 1970. This is one of the few plotting types originated in last century but still widely used. The box plot is made up of five statistical values. They are the minimum (the smallest value), the lower(the first) quartile, the median, the upper (the third)quartile and the maximum(the largest value). The statistical terms quartile and percentile will be discussed in detail\n"
   ]
  },
  {
   "cell_type": "code",
   "execution_count": null,
   "metadata": {
    "collapsed": true
   },
   "outputs": [],
   "source": [
    "## 2.1 Quartile:"
   ]
  },
  {
   "cell_type": "code",
   "execution_count": 3,
   "metadata": {},
   "outputs": [
    {
     "name": "stdout",
     "output_type": "stream",
     "text": [
      "[ 0  3  6  9 12 15 18 21 24 27]\n",
      "13.5\n"
     ]
    }
   ],
   "source": [
    "import numpy as np\n",
    "numbers = np.arange(0,30,3)\n",
    "print(numbers)\n",
    "median = np.median(numbers)\n",
    "print(median)"
   ]
  },
  {
   "cell_type": "markdown",
   "metadata": {},
   "source": [
    "## 2. History:\n",
    "The basic form of the box plot was established even in 1950's called the range bar."
   ]
  },
  {
   "cell_type": "markdown",
   "metadata": {},
   "source": [
    "## Glossary:\n",
    "##### Mean : \n",
    "The mean of a sequence of numbers can be calculated by adding all numbers of the sequence and diving the total by numbers of elements in the sequents.\n",
    "\n",
    "##### Median:\n",
    "This is a method of measure the centre of the data. To find the Median, numerologically sort the numbers in a sequence and find the item in the middle of the sorted sequence. Median of an ordered sequence should be splitting the sequence into two halves, with values equal to or less than median in one half and values equal to or greater than median in other half."
   ]
  },
  {
   "cell_type": "markdown",
   "metadata": {},
   "source": [
    "## References\n",
    "\n",
    "1. https://en.wikipedia.org/wiki/Box_plot\n",
    "2. http://asq.org/statistics/2011/03/statistics/shape-finder-box-plots.pdf \n",
    "3. http://www.dis.uniroma1.it/~santucci/QPS/LUCIDI/DispenseStat/Boxplots.pdf\n",
    "4. https://www.statisticshowto.datasciencecentral.com/what-are-quartiles/\n",
    "5. https://matplotlib.org/examples/statistics/boxplot_color_demo.html\n",
    "6. https://cnx.org/contents/XgdE-Z55@40.9:tf3VgcnR@13/Box-Plots\n",
    "7. http://vita.had.co.nz/papers/boxplots.pdf\n",
    "8. https://resources.saylor.org/wwwresources/archived/site/wp-content/uploads/2011/06/MA121-1.2.3.pdf\n",
    "9.\n",
    "10."
   ]
  }
 ],
 "metadata": {
  "kernelspec": {
   "display_name": "Python 3",
   "language": "python",
   "name": "python3"
  },
  "language_info": {
   "codemirror_mode": {
    "name": "ipython",
    "version": 3
   },
   "file_extension": ".py",
   "mimetype": "text/x-python",
   "name": "python",
   "nbconvert_exporter": "python",
   "pygments_lexer": "ipython3",
   "version": "3.6.3"
  }
 },
 "nbformat": 4,
 "nbformat_minor": 2
}
